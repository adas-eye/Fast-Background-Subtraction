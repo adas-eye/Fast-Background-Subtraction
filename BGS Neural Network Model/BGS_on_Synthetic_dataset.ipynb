{
  "nbformat": 4,
  "nbformat_minor": 0,
  "metadata": {
    "colab": {
      "name": " BGS on Synthetic dataset.ipynb",
      "provenance": [],
      "collapsed_sections": [
        "Ud21sjiQ19QD",
        "HDMcR-S01B2b",
        "zhYxKZ9_7i9K",
        "29VMnQ9l2HjX"
      ]
    },
    "kernelspec": {
      "name": "python3",
      "display_name": "Python 3"
    },
    "accelerator": "GPU"
  },
  "cells": [
    {
      "cell_type": "markdown",
      "metadata": {
        "id": "Ud21sjiQ19QD"
      },
      "source": [
        "# Libraries install if needed."
      ]
    },
    {
      "cell_type": "code",
      "metadata": {
        "id": "gbpBE5vHHw62"
      },
      "source": [
        "# !pip install --pre torch -f  https://download.pytorch.org/whl/nightly/cu101/torch-1.7.0.dev20200626%2Bcu101-cp36-cp36m-linux_x86_64.whl"
      ],
      "execution_count": null,
      "outputs": []
    },
    {
      "cell_type": "code",
      "metadata": {
        "id": "rrCKsyyWICFw"
      },
      "source": [
        "# !pip uninstall --y torch torchvision\n",
        "# !pip install --pre torchvision -f  https://download.pytorch.org/whl/nightly/cu101/torch_nightly.html"
      ],
      "execution_count": null,
      "outputs": []
    },
    {
      "cell_type": "markdown",
      "metadata": {
        "id": "HDMcR-S01B2b"
      },
      "source": [
        "# COCO DATASET DOWNLOAD"
      ]
    },
    {
      "cell_type": "markdown",
      "metadata": {
        "id": "X8H3nWRj1XSO"
      },
      "source": [
        "I have tried working directly with zip file using python library `zipFile`.\r\n",
        "\r\n",
        "It works fine with single thread, but on multithread the library throws exception.\r\n",
        "\r\n",
        "I have tried to find solution but no luck. A discussion is at : [torch forums](https://discuss.pytorch.org/t/dataloader-with-zipfile-failed/42795)"
      ]
    },
    {
      "cell_type": "markdown",
      "metadata": {
        "id": "rTnCPSff2BJu"
      },
      "source": [
        ""
      ]
    },
    {
      "cell_type": "code",
      "metadata": {
        "id": "6Inwsls87s8o"
      },
      "source": [
        "#---------------------\r\n",
        "# download COCO dataset\r\n",
        "# uncomment and run only if necessary\r\n",
        "#---------------------\r\n",
        "\r\n",
        "# download dataset to drive\r\n",
        "# https://stackoverflow.com/questions/55556965/importing-coco-datasets-to-google-colaboratory\r\n",
        "\r\n",
        "# !wget http://images.cocodataset.org/zips/train2017.zip"
      ],
      "execution_count": null,
      "outputs": []
    },
    {
      "cell_type": "code",
      "metadata": {
        "id": "mDtGBEWHn8L9"
      },
      "source": [
        "# !unzip -q train2017.zip"
      ],
      "execution_count": null,
      "outputs": []
    },
    {
      "cell_type": "code",
      "metadata": {
        "colab": {
          "base_uri": "https://localhost:8080/"
        },
        "id": "ALIIh3dr73hV",
        "outputId": "4c9b5192-d43d-4038-fb0a-d75d09a7fdf6"
      },
      "source": [
        "# !wget http://images.cocodataset.org/zips/val2017.zip"
      ],
      "execution_count": 16,
      "outputs": [
        {
          "output_type": "stream",
          "text": [
            "--2020-12-14 11:35:25--  http://images.cocodataset.org/zips/val2017.zip\n",
            "Resolving images.cocodataset.org (images.cocodataset.org)... 52.216.96.147\n",
            "Connecting to images.cocodataset.org (images.cocodataset.org)|52.216.96.147|:80... connected.\n",
            "HTTP request sent, awaiting response... 200 OK\n",
            "Length: 815585330 (778M) [application/zip]\n",
            "Saving to: ‘val2017.zip’\n",
            "\n",
            "val2017.zip         100%[===================>] 777.80M  46.1MB/s    in 17s     \n",
            "\n",
            "2020-12-14 11:35:42 (44.9 MB/s) - ‘val2017.zip’ saved [815585330/815585330]\n",
            "\n"
          ],
          "name": "stdout"
        }
      ]
    },
    {
      "cell_type": "code",
      "metadata": {
        "id": "KH4Tr7SQpipu"
      },
      "source": [
        "# !unzip -q val2017.zip"
      ],
      "execution_count": 17,
      "outputs": []
    },
    {
      "cell_type": "markdown",
      "metadata": {
        "id": "zhYxKZ9_7i9K"
      },
      "source": [
        "# CDNET DATASET DOWNLOAD"
      ]
    },
    {
      "cell_type": "code",
      "metadata": {
        "id": "MtxKnAE-xsFt"
      },
      "source": [
        "#-----------\n",
        "# untar\n",
        "#---------\n",
        "# !tar xvf /content/drive/My\\ Drive/Projects/BGS/dynamic.tar -C /content/drive/My\\ Drive/Projects/BGS/DATA/"
      ],
      "execution_count": null,
      "outputs": []
    },
    {
      "cell_type": "markdown",
      "metadata": {
        "id": "29VMnQ9l2HjX"
      },
      "source": [
        "# Global variables"
      ]
    },
    {
      "cell_type": "code",
      "metadata": {
        "id": "Gxwx_HnK2K63"
      },
      "source": [
        "import os \r\n",
        "class GlobalVars:\r\n",
        "\r\n",
        "    #-----------------\r\n",
        "    # DATASET RELATED\r\n",
        "    #-----------------\r\n",
        "\r\n",
        "    PROJECT_FOLDER = '/content/drive/My Drive/Projects/BGS/'\r\n",
        "\r\n",
        "    # COCO DATASET\r\n",
        "    COCOPath = os.path.join ( PROJECT_FOLDER, \"COCO\" ) \r\n",
        "\r\n",
        "    trainUnZipFilePath = \"train2017\"\r\n",
        "    valUnZipFilePath = \"val2017\"\r\n",
        "    trainZipFilePath = trainUnZipFilePath + \".zip\"\r\n",
        "    valZipFilePath = valUnZipFilePath + \".zip\" \r\n",
        "\r\n",
        "    # CDNET DATASET\r\n",
        "    CDNETPath = os.path.join ( PROJECT_FOLDER, \"CDNET\" )\r\n",
        "    pathToTrainTuples = os.path.join ( COCOPath, \"train_tuples.npy\" )\r\n",
        "    pathToValTuples = os.path.join ( COCOPath, \"val_tuples.npy\") \r\n",
        "\r\n",
        "    # TEST DATASET RELATED\r\n",
        "    pathToTest = None \r\n",
        "\r\n",
        "    # OUTPUTS\r\n",
        "    rootOutPath = os.path.join ( PROJECT_FOLDER, \"outputs\")\r\n",
        "    if not os.path.exists ( rootOutPath ):\r\n",
        "        os.mkdir ( rootOutPath ) \r\n",
        "\r\n",
        "    #------------------\r\n",
        "    # TRAININIG RELATED\r\n",
        "    #------------------\r\n",
        "    resumeTraining = True\r\n",
        "    netName = \"net-7\"\r\n",
        "    modelWeightsPath = os.path.join ( rootOutPath, \"weights-\" + netName + \".pt\") \r\n",
        "\r\n",
        "    trainLossesPath = os.path.join ( rootOutPath, \"train-losses-\" + netName + \".npy\") \r\n",
        "    valLossesPath = os.path.join ( rootOutPath, \"val-losses-\" + netName + \".npy\") \r\n",
        "    \r\n",
        "\r\n",
        "\r\n",
        "#testing\r\n",
        "# globalVars = GlobalVars()\r\n",
        "# print(globalVars.PROJECT_FOLDER) "
      ],
      "execution_count": 11,
      "outputs": []
    },
    {
      "cell_type": "markdown",
      "metadata": {
        "id": "CjV8X5wd1PaB"
      },
      "source": [
        "# DataLoaders Synthetic "
      ]
    },
    {
      "cell_type": "code",
      "metadata": {
        "id": "Hl-e36Cg9VcI"
      },
      "source": [
        "globalVars = GlobalVars() "
      ],
      "execution_count": 12,
      "outputs": []
    },
    {
      "cell_type": "code",
      "metadata": {
        "id": "zL1Fs56Z8xqm"
      },
      "source": [
        "# needed to import codes from drive.\r\n",
        "import sys\r\n",
        "sys.path.append ( globalVars.PROJECT_FOLDER )\r\n",
        "\r\n",
        "# import Synthetic Data functionality \r\n",
        "from importlib import reload \r\n",
        "import data_synthetic; reload ( data_synthetic )\r\n",
        "from data_synthetic import SyntheticData\r\n",
        "\r\n",
        "# import torch Dataloader\r\n",
        "from torch.utils.data import DataLoader  "
      ],
      "execution_count": 13,
      "outputs": []
    },
    {
      "cell_type": "code",
      "metadata": {
        "id": "M90EvckK8abl"
      },
      "source": [
        "class DataIteratorSynthetic:\r\n",
        "\r\n",
        "    def __init__(self, globalVars ):\r\n",
        "        self.globalVars = globalVars \r\n",
        "        self.val_dataloader = None\r\n",
        "        self.train_dataloader = None \r\n",
        "\r\n",
        "    def trainDataLoader(self,\r\n",
        "                        n_of_tuples = 200_000,\r\n",
        "                        train_batch_size = 16,\r\n",
        "                        num_workers = 4 ):\r\n",
        "\r\n",
        "        d_train = SyntheticData( path_to_COCO_file = self.globalVars.trainUnZipFilePath,\r\n",
        "                                 path_to_tuples = self.globalVars.pathToTrainTuples,\r\n",
        "                                 path_to_CDNET = self.globalVars.CDNETPath,\r\n",
        "                                 mode = \"train\",\r\n",
        "                                 n_of_tuples = 200_000,\r\n",
        "                                 cache_into_memory = False,\r\n",
        "                                data_mode = \"folder\"\r\n",
        "                                )\r\n",
        "        \r\n",
        "        self.train_dataloader = DataLoader(  d_train, batch_size = train_batch_size , shuffle = True, num_workers = num_workers )\r\n",
        "        return self.train_dataloader \r\n",
        "    \r\n",
        "    def valDataLoader(self, \r\n",
        "                      n_of_tuples = 5_000,\r\n",
        "                      val_batch_size = 8,\r\n",
        "                      num_workers = 2\r\n",
        "                      ):\r\n",
        "        d_val = SyntheticData (path_to_COCO_file = self.globalVars.valUnZipFilePath,\r\n",
        "                               path_to_tuples = self.globalVars.pathToValTuples,\r\n",
        "                               path_to_CDNET = globalVars.CDNETPath,\r\n",
        "                               mode = \"val\",\r\n",
        "                               n_of_tuples = n_of_tuples,\r\n",
        "                               cache_into_memory = False,\r\n",
        "                               data_mode = \"folder\"\r\n",
        "                               )\r\n",
        "        self.val_dataloader = DataLoader(  d_val, batch_size = val_batch_size , shuffle = True, num_workers = num_workers )\r\n",
        "        return self.val_dataloader \r\n",
        "    \r\n",
        "    def checkShapes(self):\r\n",
        "        if self.train_dataloader is no\r\n",
        "\r\n",
        "    def trainDataLoader(self):\r\n",
        "        pass "
      ],
      "execution_count": 14,
      "outputs": []
    },
    {
      "cell_type": "code",
      "metadata": {
        "colab": {
          "base_uri": "https://localhost:8080/"
        },
        "id": "makEzvAgBzh9",
        "outputId": "0703305e-844c-4a69-f84d-5a476c74ed7f"
      },
      "source": [
        "dataiterator = DataIteratorSynthetic(globalVars=globalVars)\r\n",
        "# trainLoader = dataiterator.trainDataLoader()\r\n",
        "valLoader = dataiterator.valDataLoader() \r\n"
      ],
      "execution_count": 18,
      "outputs": [
        {
          "output_type": "stream",
          "text": [
            "\r  0%|          | 0/32 [00:00<?, ?it/s]"
          ],
          "name": "stderr"
        },
        {
          "output_type": "stream",
          "text": [
            "tuples loaded from file /content/drive/My Drive/Projects/BGS/COCO/val_tuples.npy\n",
            "loading data from disk... "
          ],
          "name": "stdout"
        },
        {
          "output_type": "stream",
          "text": [
            "100%|██████████| 32/32 [10:02<00:00, 18.82s/it]"
          ],
          "name": "stderr"
        },
        {
          "output_type": "stream",
          "text": [
            "done.\n",
            "\n",
            "                there are total masks = 52181 images\n",
            "                and from COCO there are total images = 5000\n",
            "                we are generating : 5000 tuples of two random images from COCO images.\n",
            "               \n"
          ],
          "name": "stdout"
        },
        {
          "output_type": "stream",
          "text": [
            "\n"
          ],
          "name": "stderr"
        }
      ]
    },
    {
      "cell_type": "code",
      "metadata": {
        "id": "tLPxg5lUE6Yf"
      },
      "source": [
        ""
      ],
      "execution_count": null,
      "outputs": []
    },
    {
      "cell_type": "code",
      "metadata": {
        "id": "QLaJ2fVGe1Ge"
      },
      "source": [
        "\n",
        "\n",
        "# create two datasets : train and validation \n",
        "def getDataLoader( train_batch_size = 16, val_batch_size = 8, unit_Test = True ):\n",
        "    \n",
        "    # train \n",
        "    d_train = SyntheticData (path_to_COCO_file = trainUnZipFilePath,\n",
        "                             path_to_tuples = pathToTrainTuples,\n",
        "                             path_to_CDNET = CDNETPath,\n",
        "                             mode = \"train\",\n",
        "                             n_of_tuples = 200_000,\n",
        "                             cache_into_memory = False\n",
        "                             ) \n",
        "    d_val = SyntheticData ( path_to_COCO_file = validationUnZipFilePath,\n",
        "                           path_to_tuples = pathToValTuples,\n",
        "                           path_to_CDNET = CDNETPath,\n",
        "                           mode = \"validation\",\n",
        "                           n_of_tuples = 5_000,\n",
        "                           cache_into_memory = False\n",
        "                           ) \n",
        "    if unit_Test:\n",
        "        inputImage, backgroundImage, mask = d_train[0]\n",
        "        print(f'''\n",
        "                train dataset\n",
        "                -------------\n",
        "                size : {len(d_train)}\n",
        "                inputImage shape : { inputImage.shape , inputImage.dtype }\n",
        "                backgroundImageShape : { backgroundImage.shape, backgroundImage.dtype}\n",
        "                mask shape : { mask.shape,mask.dtype }\n",
        "              ''') \n",
        "        \n",
        "        inputImage, backgroundImage, mask = d_val[0]\n",
        "        print(f'''\n",
        "                Validation dataset\n",
        "                -------------\n",
        "                size : {len(d_val)}\n",
        "                inputImage shape : { inputImage.shape, inputImage.dtype}\n",
        "                backgroundImageShape : { backgroundImage.shape,backgroundImage.dtype}\n",
        "                mask shape : { mask.shape, mask.dtype}\n",
        "              ''') \n",
        "        \n",
        "    train_dataloader = DataLoader(  d_train, batch_size = train_batch_size , shuffle = True, num_workers = 4 ) \n",
        "    val_dataloader = DataLoader ( d_val, batch_size = val_batch_size, shuffle = True , num_workers = 4 )\n",
        "\n",
        "    if unit_Test:\n",
        "\n",
        "        for i, ( inputImage, backgroundImage, mask ) in enumerate( train_dataloader ):\n",
        "            print(f'''\n",
        "                    train data loader\n",
        "                    -------------\n",
        "                    inputImage shape : { inputImage.shape, inputImage.dtype}\n",
        "                    backgroundImageShape : { backgroundImage.shape,backgroundImage.dtype}\n",
        "                    mask shape : { mask.shape, mask.dtype}\n",
        "              ''') \n",
        "            break \n",
        "\n",
        "        \n",
        "        for i, ( inputImage, backgroundImage, mask ) in enumerate( val_dataloader ):\n",
        "            print(f'''\n",
        "                    val data loader\n",
        "                    -------------\n",
        "                    inputImage shape : { inputImage.shape, inputImage.dtype}\n",
        "                    backgroundImageShape : { backgroundImage.shape,backgroundImage.dtype}\n",
        "                    mask shape : { mask.shape, mask.dtype}\n",
        "              ''') \n",
        "            break \n",
        "\n",
        "    return train_dataloader, val_dataloader  "
      ],
      "execution_count": 43,
      "outputs": []
    },
    {
      "cell_type": "code",
      "metadata": {
        "id": "eVyqvFoPLyN5",
        "colab": {
          "base_uri": "https://localhost:8080/"
        },
        "outputId": "e8295a39-09ea-432d-efda-69acde351c5d"
      },
      "source": [
        "import torch.nn as nn \n",
        "import time \n",
        "import sys \n",
        "import os \n",
        "from importlib import reload \n",
        "import io \n",
        "import torch.optim as optim \n",
        "import numpy as np"
      ],
      "execution_count": 23,
      "outputs": [
        {
          "output_type": "stream",
          "text": [
            "1.7.0+cu101\n"
          ],
          "name": "stdout"
        }
      ]
    },
    {
      "cell_type": "code",
      "metadata": {
        "id": "YLztpTFFwGgU"
      },
      "source": [
        "#---------------------------------------------------------------\n",
        "# reload these in colab for change update without runtime restart\n",
        "#----------------------------------------------------------------\n",
        "import data_synthetic; reload ( data_synthetic )\n",
        "import FCNN; reload ( FCNN )\n",
        "import loss; reload ( loss )\n",
        "import utils; reload ( utils )\n",
        "from utils import *\n",
        "\n",
        "from data_synthetic import SyntheticData \n",
        "from FCNN import Net \n",
        "from loss import Jaccard \n",
        "import cv2"
      ],
      "execution_count": 39,
      "outputs": []
    },
    {
      "cell_type": "code",
      "metadata": {
        "id": "IqtFoB2TOrT-"
      },
      "source": [
        "#-------------\n",
        "# checkpoint\n",
        "#-------------\n",
        "import os \n",
        "import numpy as np \n",
        "\n",
        "def checkpoint( net, train_losses: list or 'np array', val_losses : list or 'np array ', verbose = True) -> None:\n",
        "    # save weights\n",
        "    if net is not None:\n",
        "        torch.save( net.state_dict(), model_weights_path )\n",
        "\n",
        "    # save train losses \n",
        "    if train_losses is not None:\n",
        "        np.save(train_losses_path, np.array ( train_losses ) ) \n",
        "\n",
        "    # save val losses \n",
        "    if val_losses is not None:\n",
        "        np.save(val_losses_path, np.array ( val_losses ) ) \n",
        "        \n",
        "    if verbose:\n",
        "        print(f\"\\n --checkpoint created for {net_name}\") \n",
        "\n",
        "# checkpoint ( None, [1], [1] )"
      ],
      "execution_count": 20,
      "outputs": []
    },
    {
      "cell_type": "code",
      "metadata": {
        "id": "-XjvE6n6g3D9"
      },
      "source": [
        "train_dataloader, val_dataloader = getDataLoader ( train_batch_size  = 16, val_batch_size = 8 ) "
      ],
      "execution_count": null,
      "outputs": []
    },
    {
      "cell_type": "code",
      "metadata": {
        "id": "gyCXwgXzxzx6"
      },
      "source": [
        "class DeviceManager:\r\n",
        "\r\n",
        "    def __init__(self):\r\n",
        "        self.device = \"cuda\" if torch.cuda.is_available() else \"cpu\"\r\n",
        "        print(f\"device available : {self.device}\")\r\n",
        "    \r\n",
        "    def __call__(self):\r\n",
        "        return self.device \r\n",
        "\r\n",
        "class NetManager:\r\n",
        "\r\n",
        "    def __init__(self, net_name, model_weights_path ):\r\n",
        "\r\n",
        "        self.net = Net()\r\n",
        "        self.device = DeviceManager()\r\n",
        "        self.net.to ( self.device() )\r\n",
        "\r\n",
        "        self.model_weights_path = model_weights_path \r\n",
        "    \r\n",
        "    def loadCheckpoint(self):\r\n",
        "        flag = net.load_state_dict ( torch.load ( self.model_weights_path, map_location= torch.device( self.device() ) ) ) \r\n",
        "        print(flag)\r\n",
        "\r\n",
        "    def createCheckpoint(self):\r\n",
        "        torch.save( self.net.state_dict(), self.model_weights_path )\r\n",
        "    \r\n",
        "    def getNetSummary(self):\r\n",
        "        print ( self.net ) \r\n"
      ],
      "execution_count": 2,
      "outputs": []
    },
    {
      "cell_type": "code",
      "metadata": {
        "id": "xdr9b6DBObP_",
        "colab": {
          "base_uri": "https://localhost:8080/",
          "height": 353
        },
        "outputId": "9d44d793-cebc-4c6a-c550-7e9c5c282783"
      },
      "source": [
        "device_manager = DeviceManager()\n",
        "net_manager = NetManager(net_name = net_name, model_weights_path = model_weights_path )\n",
        "if resume_training:\n",
        "    net_manager.loadCheckpoint() "
      ],
      "execution_count": 3,
      "outputs": [
        {
          "output_type": "error",
          "ename": "NameError",
          "evalue": "ignored",
          "traceback": [
            "\u001b[0;31m---------------------------------------------------------------------------\u001b[0m",
            "\u001b[0;31mNameError\u001b[0m                                 Traceback (most recent call last)",
            "\u001b[0;32m<ipython-input-3-f1ba4bbdda9f>\u001b[0m in \u001b[0;36m<module>\u001b[0;34m()\u001b[0m\n\u001b[0;32m----> 1\u001b[0;31m \u001b[0mdevice_manager\u001b[0m \u001b[0;34m=\u001b[0m \u001b[0mDeviceManager\u001b[0m\u001b[0;34m(\u001b[0m\u001b[0;34m)\u001b[0m\u001b[0;34m\u001b[0m\u001b[0;34m\u001b[0m\u001b[0m\n\u001b[0m\u001b[1;32m      2\u001b[0m \u001b[0mnet_manager\u001b[0m \u001b[0;34m=\u001b[0m \u001b[0mNetManager\u001b[0m\u001b[0;34m(\u001b[0m\u001b[0mnet_name\u001b[0m \u001b[0;34m=\u001b[0m \u001b[0mnet_name\u001b[0m\u001b[0;34m,\u001b[0m \u001b[0mmodel_weights_path\u001b[0m \u001b[0;34m=\u001b[0m \u001b[0mmodel_weights_path\u001b[0m \u001b[0;34m)\u001b[0m\u001b[0;34m\u001b[0m\u001b[0;34m\u001b[0m\u001b[0m\n\u001b[1;32m      3\u001b[0m \u001b[0;32mif\u001b[0m \u001b[0mresume_training\u001b[0m\u001b[0;34m:\u001b[0m\u001b[0;34m\u001b[0m\u001b[0;34m\u001b[0m\u001b[0m\n\u001b[1;32m      4\u001b[0m     \u001b[0mnet_manager\u001b[0m\u001b[0;34m.\u001b[0m\u001b[0mloadCheckpoint\u001b[0m\u001b[0;34m(\u001b[0m\u001b[0;34m)\u001b[0m\u001b[0;34m\u001b[0m\u001b[0;34m\u001b[0m\u001b[0m\n",
            "\u001b[0;32m<ipython-input-2-d81238cf52ab>\u001b[0m in \u001b[0;36m__init__\u001b[0;34m(self)\u001b[0m\n\u001b[1;32m      2\u001b[0m \u001b[0;34m\u001b[0m\u001b[0m\n\u001b[1;32m      3\u001b[0m     \u001b[0;32mdef\u001b[0m \u001b[0m__init__\u001b[0m\u001b[0;34m(\u001b[0m\u001b[0mself\u001b[0m\u001b[0;34m)\u001b[0m\u001b[0;34m:\u001b[0m\u001b[0;34m\u001b[0m\u001b[0;34m\u001b[0m\u001b[0m\n\u001b[0;32m----> 4\u001b[0;31m         \u001b[0mself\u001b[0m\u001b[0;34m.\u001b[0m\u001b[0mdevice\u001b[0m \u001b[0;34m=\u001b[0m \u001b[0;34m\"cuda\"\u001b[0m \u001b[0;32mif\u001b[0m \u001b[0mtorch\u001b[0m\u001b[0;34m.\u001b[0m\u001b[0mcuda\u001b[0m\u001b[0;34m.\u001b[0m\u001b[0mis_available\u001b[0m\u001b[0;34m(\u001b[0m\u001b[0;34m)\u001b[0m \u001b[0;32melse\u001b[0m \u001b[0;34m\"cpu\"\u001b[0m\u001b[0;34m\u001b[0m\u001b[0;34m\u001b[0m\u001b[0m\n\u001b[0m\u001b[1;32m      5\u001b[0m         \u001b[0mprint\u001b[0m\u001b[0;34m(\u001b[0m\u001b[0;34mf\"device available : {self.device}\"\u001b[0m\u001b[0;34m)\u001b[0m\u001b[0;34m\u001b[0m\u001b[0;34m\u001b[0m\u001b[0m\n\u001b[1;32m      6\u001b[0m \u001b[0;34m\u001b[0m\u001b[0m\n",
            "\u001b[0;31mNameError\u001b[0m: name 'torch' is not defined"
          ]
        }
      ]
    },
    {
      "cell_type": "code",
      "metadata": {
        "id": "GoDrwOcTjfIR"
      },
      "source": [
        "#----------------------------\n",
        "# optimizer and loss function \n",
        "#----------------------------\n",
        "criterion = Jaccard( filterROI = False, smooth = 1000 ) \n",
        "\n",
        "optimizer = optim.Adam(net.parameters(), \n",
        "                       lr=0.001, \n",
        "                       betas=(0.9, 0.999), \n",
        "                       eps=1e-08, \n",
        "                       weight_decay=0, \n",
        "                       amsgrad=False\n",
        "                       )"
      ],
      "execution_count": 36,
      "outputs": []
    },
    {
      "cell_type": "code",
      "metadata": {
        "id": "KAmb0Y9gf-JE"
      },
      "source": [
        "#-------------\n",
        "# validation\n",
        "#-------------\n",
        "from tqdm import tqdm \n",
        "\n",
        "if resume_training:\n",
        "    val_losses = list ( np.load ( val_losses_path ) ) \n",
        "else:\n",
        "    val_losses = [ 0 ] \n",
        "\n",
        "@torch.no_grad()\n",
        "def validate():\n",
        "    net.eval() \n",
        "    eval_run_loss = 0 \n",
        "    tqdm_test_iter = tqdm ( val_dataloader, position = 0, leave = True )\n",
        "\n",
        "    for i, data in enumerate ( tqdm_test_iter ): \n",
        "       \n",
        "        inputImages, backgroundImages, masks = data \n",
        "        inputs = torch.cat( [backgroundImages, inputImages], axis = 1 )\n",
        "        \n",
        "        inputs = inputs.to (device) \n",
        "        masks = masks.to(device)\n",
        "        outputs = net( inputs )\n",
        "        try:\n",
        "            temp_l = criterion( y_true = masks, y_pred = outputs )\n",
        "        except:\n",
        "            print(f'''\n",
        "                    inputs : {inputs.shape}\n",
        "                    masks : {masks.shape}\n",
        "                    outputs : {outputs.shape}\n",
        "                    ''')\n",
        "            raise ( Exception (\"loss calc error\"))\n",
        "\n",
        "        eval_run_loss += temp_l.detach().cpu().numpy() \n",
        "        tqdm_test_iter.set_description(f\"tloss:{np.round(eval_run_loss / (i+1), decimals=2)}\")  \n",
        "\n",
        "        if i % 100 == 0:\n",
        "            #--------------------\n",
        "            # show the outputs\n",
        "            #--------------------\n",
        "            true_mask = masks.cpu().squeeze().numpy() \n",
        "            indices_not_roi = np.where ( true_mask == 0.85 )\n",
        "\n",
        "            pred_mask = outputs.cpu().detach().numpy()\n",
        "            \n",
        "            # post process each prediction via median filter of size 9 \n",
        "            for i in range ( pred_mask.shape[0] ):\n",
        "                pred_mask[i] = ( cv2.medianBlur( np.uint8 ( pred_mask[i] * 255 ) , 9 ) / 255.0 ) \n",
        "\n",
        "            pred_mask [ pred_mask >= 0.5 ] = 1.0 \n",
        "            pred_mask [ pred_mask  < 0.5 ] = 0.0 \n",
        "            pred_mask [ indices_not_roi ] = 0.85 \n",
        "\n",
        "            # background and raw image\n",
        "            inputs = inputs.cpu().numpy() \n",
        "            bg = inputs[:, :3, :, :]; bg = bg.transpose ( (0, 2, 3, 1) ); bg = bg.squeeze() \n",
        "            raw = inputs[:, 3:, :, :]; raw = raw.transpose ( (0, 2, 3, 1) ); raw = raw.squeeze() \n",
        "\n",
        "            # save\n",
        "            # saving to root_out_path/Images/subfolderName/prefix-postfix.png\n",
        "            # postfix = len(files) already present in the \"subfolderName\" \n",
        "            show(matrices = [ bg, raw, true_mask, pred_mask ], \n",
        "                title = f\"validation at epoch {len(val_losses)}\",\n",
        "                descriptions = None,\n",
        "                root_out_path = root_out_path,\n",
        "                prefix = None,\n",
        "                subfolderName = \"validation\",\n",
        "                epochNum = f\"{len(val_losses)}\",\n",
        "                show_plots = False \n",
        "                )\n",
        "\n",
        "    # update the val losses\n",
        "    val_losses.append( eval_run_loss / ( i + 1 ) )\n",
        "    net.train()  "
      ],
      "execution_count": 37,
      "outputs": []
    },
    {
      "cell_type": "code",
      "metadata": {
        "id": "Pk6B0KjMqmp0"
      },
      "source": [
        "# validate() \n",
        "# checkpoint(net, train_losses = None, val_losses = val_losses, verbose = True)"
      ],
      "execution_count": null,
      "outputs": []
    },
    {
      "cell_type": "code",
      "metadata": {
        "id": "hQOCmDUpk480"
      },
      "source": [
        "# import utils; reload ( utils )\n",
        "# from utils import *\n",
        "# validate() \n",
        "\n",
        "# print ( len(val_losses)) \n",
        "# print ( len(train_losses))"
      ],
      "execution_count": null,
      "outputs": []
    },
    {
      "cell_type": "code",
      "metadata": {
        "id": "O9tKN9Lak6J6",
        "colab": {
          "base_uri": "https://localhost:8080/"
        },
        "outputId": "c9db843a-d0b2-4a6d-c91b-5e9832f7716c"
      },
      "source": [
        "#--------------\n",
        "# train \n",
        "#--------------\n",
        "from IPython.display import clear_output \n",
        "\n",
        "from tqdm import tqdm \n",
        "num_epochs = 100\n",
        "\n",
        "if resume_training:\n",
        "    train_losses = list ( np.load ( train_losses_path ) )\n",
        "else:\n",
        "    train_losses = [ 0 ]\n",
        "\n",
        "for epoch in range ( num_epochs ) :  # loop over the dataset multiple times\n",
        "    print(\"\\n\\n----------------------\")\n",
        "    print(f\"epoch : { len(train_losses)}\")\n",
        "    running_loss = 0.0 \n",
        "\n",
        "    tqdm_iter =  tqdm (  train_dataloader , position = 0, leave = True )\n",
        "    for i, data in enumerate ( tqdm_iter ) :\n",
        "        # if i == 1: break\n",
        "        # data is a list of [inputs, labels]\n",
        "        inputImages, backgroundImages, masks = data \n",
        "        inputs = torch.cat( [backgroundImages, inputImages], axis = 1 )\n",
        "        # print(f\"inputs shape : { inputs.shape }, masks shape : {masks.shape}\")\n",
        "        inputs = inputs.to(device)\n",
        "        masks =  masks.to(device)\n",
        "\n",
        "        # zero the parameter gradients\n",
        "        optimizer.zero_grad()\n",
        "\n",
        "        # forward + backward + optimize\n",
        "        outputs = net( inputs.double() )\n",
        "        loss = criterion(y_true = masks, y_pred = outputs )\n",
        "        loss.backward()\n",
        "        optimizer.step()\n",
        "\n",
        "        # update loss \n",
        "        running_loss += loss.cpu().detach().numpy()\n",
        "        tqdm_iter.set_description (f\"rloss: { np.round( running_loss/(i+1), decimals=2) }\")\n",
        "\n",
        "        if i % 100 == 0:\n",
        "            checkpoint(net, None, None, verbose = False) \n",
        "\n",
        "            #----------------------------------------\n",
        "            # show results of the last batch trained. \n",
        "            #----------------------------------------\n",
        "            # true mask \n",
        "            true_mask = masks.cpu().numpy()\n",
        "            indices_not_roi = np.where ( true_mask == 0.85 ) # handiling the not roi region in pred mask \n",
        "\n",
        "            # predicted mask \n",
        "            pred_mask = outputs.cpu().detach().numpy()\n",
        "            \n",
        "            # post process each prediction via median filter of size 9 \n",
        "            for i in range ( pred_mask.shape[0] ):\n",
        "                pred_mask[i] = cv2.medianBlur( np.uint8 ( pred_mask[i] * 255 ) , 9 ) / 255.0 \n",
        "\n",
        "            pred_mask [pred_mask >= 0.5 ] = 1.0       # thresholding of 0.5 \n",
        "            pred_mask [ pred_mask < 0.5 ] = 0.0 \n",
        "            pred_mask [ indices_not_roi ] = 0.85 \n",
        "\n",
        "            # bg and raw \n",
        "            inputs = inputs.cpu().numpy() \n",
        "            # bg \n",
        "            bg = inputs[:,:3,:,:].transpose((0, 2,3, 1))\n",
        "            # raw \n",
        "            raw = inputs[:,3:, :, :].transpose((0, 2, 3, 1)) \n",
        "\n",
        "            show(matrices = [bg, raw, true_mask, pred_mask],\n",
        "                 title = f\"train at epoch-{len(train_losses)}\",\n",
        "                 descriptions = None,\n",
        "                 root_out_path = root_out_path,\n",
        "                 prefix = None,\n",
        "                 subfolderName = \"train\",\n",
        "                 epochNum = f\"{len(train_losses)}\",\n",
        "                 show_plots = False\n",
        "                )\n",
        "            \n",
        "    #------------------------\n",
        "    #------------------------\n",
        "    \n",
        "    # update train loss \n",
        "    train_losses.append ( running_loss / (i+1) )\n",
        "\n",
        "    #----------------\n",
        "    # run validation\n",
        "    #----------------\n",
        "    validate() \n",
        "\n",
        "    #------------------\n",
        "    # plot loss graphs \n",
        "    #------------------\n",
        "    plt.plot(train_losses, label = \"train_loss\")\n",
        "    plt.plot(val_losses, label = \"val_loss\")\n",
        "    plt.legend(); plt.xlabel(\"epoch num\"); plt.ylabel(\"loss\"); plt.title ( f\"loss graph epoch : {len(train_losses)}\")\n",
        "    plt.savefig ( os.path.join ( root_out_path,\"Images\", f\"loss_graph_{len(train_losses)}.png\" ) ) \n",
        "    plt.show() \n",
        "\n",
        "    #summary\n",
        "    print(f'''\n",
        "        average train loss ( last 3 ): { np.round ( train_losses[-3:], decimals= 2 ) } \n",
        "        average val loss ( last 3 ): { np.round (val_losses[-3:], decimals= 2) }\n",
        "    ''') \n",
        "    # break \n",
        "    checkpoint(net, train_losses, val_losses, verbose = True)"
      ],
      "execution_count": null,
      "outputs": [
        {
          "output_type": "stream",
          "text": [
            "\r  0%|          | 0/12500 [00:00<?, ?it/s]"
          ],
          "name": "stderr"
        },
        {
          "output_type": "stream",
          "text": [
            "\n",
            "\n",
            "----------------------\n",
            "epoch : 30\n"
          ],
          "name": "stdout"
        }
      ]
    },
    {
      "cell_type": "code",
      "metadata": {
        "id": "nCMgVOP3waCB",
        "colab": {
          "base_uri": "https://localhost:8080/"
        },
        "outputId": "4a9f9092-8bc2-40b0-df84-c9bc26d756c7"
      },
      "source": [
        "# for i in range(2):\n",
        "#     val_losses.pop()\n",
        "#     train_losses.pop()\n",
        "\n",
        "# print ( len(val_losses), len(train_losses) )\n",
        "checkpoint( net, train_losses, val_losses )"
      ],
      "execution_count": null,
      "outputs": [
        {
          "output_type": "stream",
          "text": [
            "\n",
            " --checkpoint created for net-7\n"
          ],
          "name": "stdout"
        }
      ]
    },
    {
      "cell_type": "code",
      "metadata": {
        "id": "Z_e_GPKdSj7w",
        "colab": {
          "base_uri": "https://localhost:8080/",
          "height": 295
        },
        "outputId": "4be03520-58f5-4caa-e7f5-576d17126c7d"
      },
      "source": [
        "plt.plot(train_losses, label = \"train_loss\")\n",
        "plt.plot(val_losses, label = \"val_loss\")\n",
        "plt.legend(); plt.xlabel(\"epoch num\"); plt.ylabel(\"loss\"); plt.title ( f\"loss graph epoch : {len(train_losses)}\")\n",
        "plt.savefig ( os.path.join ( root_out_path,\"Images\", f\"loss_graph_{len(train_losses)}.png\" ) ) \n",
        "plt.show() "
      ],
      "execution_count": null,
      "outputs": [
        {
          "output_type": "display_data",
          "data": {
            "image/png": "[encoded data removed]",
            "text/plain": [
              "<Figure size 432x288 with 1 Axes>"
            ]
          },
          "metadata": {
            "tags": [],
            "needs_background": "light"
          }
        }
      ]
    },
    {
      "cell_type": "code",
      "metadata": {
        "id": "cQwZaAAsGOZ7"
      },
      "source": [
        "#---------------\n",
        "# test on images\n",
        "#---------------\n",
        "\n",
        "# while training the input hybrid of 6 channels\n",
        "# was composed by first 3 channels from background image\n",
        "# and last 3 channels from true imageṇ\n",
        "from skimage import io \n",
        "\n",
        "def read ( image_filename, background_filename ):\n",
        "    ''' read raw image and background image as input hybrid '''\n",
        "    bg = io.imread ( background_filename )\n",
        "    raw = io.imread ( image_filename )\n",
        "    \n",
        "    assert bg.ndim == 3 and raw.ndim == 3, \"input is supposed to be of 6 channels\"\n",
        "\n",
        "    # make channel first\n",
        "    bg = bg.transpose ( (2,0,1))\n",
        "    raw = raw.transpose ( (2,0,1))\n",
        "\n",
        "    # add batch axis and normalise and change dtype to float\n",
        "    bg = bg[np.new_axis, :] )  / 255.0   \n",
        "    raw = raw[np.new_axis, :] / 255.0 \n",
        "    \n",
        "    input_hybrid = torch.cat ( [ torch.tensor ( bg ), torch.tensor (raw) ], axis = 1 ) \n",
        "    return input_hybrid \n",
        "\n",
        "@torch.no_grad()\n",
        "def forward(inputs):\n",
        "    ''' returns a binary map'''\n",
        "    output = net(inputs)\n",
        "    output = output.detach().cpu().squeeze() \n",
        "\n",
        "    output[output >= 0.5 ] = 1\n",
        "    output[ output < 0.5 ] = 0 \n",
        "    return output \n",
        "\n",
        "\n",
        "from glob import glob \n",
        "import os \n",
        "\n",
        "def main( test_images_dir ):\n",
        "    '''\n",
        "    directory where test_images are stored\n",
        "    - contain a folder named background\n",
        "    - contain a folder names images \n",
        "    '''\n",
        "    background_folder = os.path.join ( test_images_dir, \"background\" )    \n",
        "    images_folder = os.path.join ( test_images_dir, \"images\")\n",
        "\n",
        "    bg_image_file  = glob ( background_folder + \"/*\")[0] \n",
        "    images = glob ( images_folder + \"/*\") \n",
        "\n",
        "    for image_file in images:\n",
        "        inputs = read ( image_file, bg_image_file ) \n",
        "        pred_mask = forward ( inputs )\n",
        "        image = io.imread ( image_file )\n",
        "        "
      ],
      "execution_count": null,
      "outputs": []
    },
    {
      "cell_type": "code",
      "metadata": {
        "id": "Ma9WxqdQOhce",
        "colab": {
          "base_uri": "https://localhost:8080/"
        },
        "outputId": "624a95e8-f925-43f6-b773-53977ffae984"
      },
      "source": [
        "#--------- time check at different input shapes\n",
        "#-----------------------------------------------\n",
        "\n",
        "def timeTest():\n",
        "    net.eval() \n",
        "    for s in [ 37, 224,]:\n",
        "        image = torch.rand(10, 6, s, s ).cuda()\n",
        "        tick = time.time()\n",
        "        out = net ( image )\n",
        "        tock = time.time()\n",
        "        print(f'''\n",
        "            time taken is : { tock - tick } \n",
        "            input size : {image.shape}\n",
        "            output size : {out.shape}\n",
        "\n",
        "            ''') \n",
        "    net.train() \n",
        "        \n",
        "timeTest()"
      ],
      "execution_count": null,
      "outputs": [
        {
          "output_type": "stream",
          "text": [
            "\n",
            "            time taken is : 0.003214597702026367 \n",
            "            input size : torch.Size([10, 6, 37, 37])\n",
            "            output size : torch.Size([10, 37, 37])\n",
            "\n",
            "            \n",
            "\n",
            "            time taken is : 0.0034532546997070312 \n",
            "            input size : torch.Size([10, 6, 224, 224])\n",
            "            output size : torch.Size([10, 224, 224])\n",
            "\n",
            "            \n"
          ],
          "name": "stdout"
        }
      ]
    },
    {
      "cell_type": "code",
      "metadata": {
        "id": "2uRl3IO2FwZg"
      },
      "source": [
        "path = os.path.join ( root_out_path, \"1\", \"4\")\n",
        "os.makedirs ( path )"
      ],
      "execution_count": null,
      "outputs": []
    },
    {
      "cell_type": "code",
      "metadata": {
        "id": "SExLjH9kF2rM"
      },
      "source": [
        ""
      ],
      "execution_count": null,
      "outputs": []
    }
  ]
}